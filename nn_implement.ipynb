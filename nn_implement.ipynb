{
 "cells": [
  {
   "cell_type": "code",
   "execution_count": 1,
   "metadata": {},
   "outputs": [],
   "source": [
    "import abc"
   ]
  },
  {
   "cell_type": "code",
   "execution_count": 2,
   "metadata": {},
   "outputs": [],
   "source": [
    "import numpy as np"
   ]
  },
  {
   "cell_type": "code",
   "execution_count": 3,
   "metadata": {},
   "outputs": [
    {
     "data": {
      "text/plain": [
       "{'divide': 'warn', 'invalid': 'warn', 'over': 'warn', 'under': 'ignore'}"
      ]
     },
     "execution_count": 3,
     "metadata": {},
     "output_type": "execute_result"
    }
   ],
   "source": [
    "np.seterr(all='raise', under='warn')"
   ]
  },
  {
   "cell_type": "markdown",
   "metadata": {},
   "source": [
    "---"
   ]
  },
  {
   "cell_type": "markdown",
   "metadata": {},
   "source": [
    "activation function"
   ]
  },
  {
   "cell_type": "code",
   "execution_count": 4,
   "metadata": {},
   "outputs": [],
   "source": [
    "class ActivationFunction(abc.ABC):\n",
    "    def __init__(self):\n",
    "        pass\n",
    "    \n",
    "    @property\n",
    "    @abc.abstractmethod\n",
    "    def derivative_use_activated(self):\n",
    "        pass\n",
    "    \n",
    "    @abc.abstractmethod\n",
    "    def apply(self, v):\n",
    "        pass\n",
    "    \n",
    "    @abc.abstractmethod\n",
    "    def derivative(self, v):\n",
    "        pass"
   ]
  },
  {
   "cell_type": "code",
   "execution_count": 5,
   "metadata": {},
   "outputs": [],
   "source": [
    "class ActivationNone(ActivationFunction):\n",
    "    def __init__(self):\n",
    "        pass\n",
    "    \n",
    "    @property\n",
    "    def derivative_use_activated(self):\n",
    "        return True\n",
    "    \n",
    "    def apply(self, v):\n",
    "        return v\n",
    "    \n",
    "    def derivative(self, v):\n",
    "        return 1"
   ]
  },
  {
   "cell_type": "code",
   "execution_count": 6,
   "metadata": {},
   "outputs": [],
   "source": [
    "class ActivationSigmoid(ActivationFunction):\n",
    "    def __init__(self, x_upper_bound=None, x_lower_bound=None):\n",
    "        self.x_upper_bound = x_upper_bound\n",
    "        self.x_lower_bound = x_lower_bound\n",
    "    \n",
    "    @property\n",
    "    def derivative_use_activated(self):\n",
    "        return True\n",
    "    \n",
    "    def apply(self, v):\n",
    "        if self.x_upper_bound or self.x_upper_bound:\n",
    "            return 1.0 / (1.0 + np.exp(-v.clip(max=self.x_upper_bound, min=self.x_lower_bound)))\n",
    "        return 1.0 / (1.0 + np.exp(-v))\n",
    "    \n",
    "    def derivative(self, v):\n",
    "        return v * (1 - v)"
   ]
  },
  {
   "cell_type": "code",
   "execution_count": 7,
   "metadata": {},
   "outputs": [],
   "source": [
    "class ActivationRelu(ActivationFunction):\n",
    "    def __init__(self):\n",
    "        pass\n",
    "    \n",
    "    @property\n",
    "    def derivative_use_activated(self):\n",
    "        return True\n",
    "    \n",
    "    def apply(self, v):\n",
    "        return v.clip(min=0)\n",
    "    \n",
    "    def derivative(self, v):\n",
    "        return np.where(v>0,1,0)"
   ]
  },
  {
   "cell_type": "markdown",
   "metadata": {},
   "source": [
    "---"
   ]
  },
  {
   "cell_type": "markdown",
   "metadata": {},
   "source": [
    "gd optimizer"
   ]
  },
  {
   "cell_type": "code",
   "execution_count": 31,
   "metadata": {},
   "outputs": [],
   "source": [
    "class GDOptimizer(abc.ABC):\n",
    "    def __init__(self):\n",
    "        self.weight_infos = {}\n",
    "        self.intercept_infos = {}\n",
    "    \n",
    "    def register_layer(self, layer_id, weight_shape, intercept_shape):\n",
    "        self.weight_infos[layer_id] = np.zeros(weight_shape)\n",
    "        self.intercept_infos[layer_id] = np.zeros(intercept_shape)\n",
    "    \n",
    "    @abc.abstractmethod\n",
    "    def apply(self, layer_id, grads, intercept_grads):\n",
    "        pass"
   ]
  },
  {
   "cell_type": "code",
   "execution_count": 32,
   "metadata": {},
   "outputs": [],
   "source": [
    "class GDOptimizerNone(GDOptimizer):\n",
    "    def __init__(self, learning_rate):\n",
    "        GDOptimizer.__init__(self)\n",
    "        self.learning_rate = learning_rate\n",
    "    \n",
    "    def apply(self, layer_id, grads, intercept_grads):\n",
    "        return self.learning_rate * grads, self.learning_rate * intercept_grads"
   ]
  },
  {
   "cell_type": "code",
   "execution_count": 33,
   "metadata": {},
   "outputs": [],
   "source": [
    "class GDOptimizerMomentum(GDOptimizer):\n",
    "    def __init__(self, learning_rate, gamma=0.9):\n",
    "        GDOptimizer.__init__(self)\n",
    "        self.learning_rate = learning_rate\n",
    "        self.gamma = gamma\n",
    "    \n",
    "    def apply(self, layer_id, grads, intercept_grads):\n",
    "        # In Momentum,\n",
    "        # weight_infos and intercept_infos stores weight deltas calculated last time\n",
    "        self.weight_infos[layer_id] = self.gamma*self.weight_infos[layer_id] + self.learning_rate*grads\n",
    "        self.intercept_infos[layer_id] = self.gamma*self.intercept_infos[layer_id] + self.learning_rate*intercept_grads\n",
    "        return self.weight_infos[layer_id], self.intercept_infos[layer_id]"
   ]
  },
  {
   "cell_type": "code",
   "execution_count": 34,
   "metadata": {},
   "outputs": [],
   "source": [
    "class GDOptimizerAdagrad(GDOptimizer):\n",
    "    def __init__(self, learning_rate=0.01, epsilon=1e-8):\n",
    "        GDOptimizer.__init__(self)\n",
    "        self.learning_rate = learning_rate\n",
    "        self.epsilon = epsilon\n",
    "        \n",
    "        "
   ]
  },
  {
   "cell_type": "code",
   "execution_count": 35,
   "metadata": {},
   "outputs": [],
   "source": [
    "class GDOptimizerAdadelta(GDOptimizer):\n",
    "    def __init__(self, gamma=0.9, epsilon=1e-8):\n",
    "        GDOptimizer.__init__(self)\n",
    "        self.gamma = gamma\n",
    "        self.epsilon = epsilon\n",
    "        \n",
    "        "
   ]
  },
  {
   "cell_type": "code",
   "execution_count": 196,
   "metadata": {},
   "outputs": [],
   "source": [
    "# TODO: Problems here, got a large error in the end and maybe not converged\n",
    "class GDOptimizerRMSprop(GDOptimizer):\n",
    "    def __init__(self, learning_rate=0.001, gamma=0.9, epsilon=1e-8):\n",
    "        GDOptimizer.__init__(self)\n",
    "        self.learning_rate = learning_rate\n",
    "        self.gamma = gamma\n",
    "        self.epsilon = epsilon\n",
    "        \n",
    "    def apply(self, layer_id, grads, intercept_grads):\n",
    "        # In RMSprop,\n",
    "        # weight_infos and intercept_infos stores E[g^2] calculated last time\n",
    "        self.weight_infos[layer_id] = self.gamma*self.weight_infos[layer_id] \\\n",
    "            + (1-self.gamma)*np.power(grads,2)\n",
    "        self.intercept_infos[layer_id] = self.gamma*self.intercept_infos[layer_id] \\\n",
    "            + (1-self.gamma)*np.power(intercept_grads,2)\n",
    "        weight_delta = self.learning_rate * grads / np.sqrt(self.weight_infos[layer_id] + self.epsilon)\n",
    "        intercept_delta = self.learning_rate * intercept_grads / np.sqrt(self.intercept_infos[layer_id] + self.epsilon)\n",
    "        return weight_delta, intercept_delta"
   ]
  },
  {
   "cell_type": "markdown",
   "metadata": {},
   "source": [
    "---"
   ]
  },
  {
   "cell_type": "markdown",
   "metadata": {},
   "source": [
    "nn model"
   ]
  },
  {
   "cell_type": "code",
   "execution_count": 42,
   "metadata": {},
   "outputs": [],
   "source": [
    "class NNLayer:\n",
    "    def __init__(self, node_count, has_intercepts, activation):\n",
    "        self.layer_id = None\n",
    "        self.node_count = node_count\n",
    "        self.has_intercepts = has_intercepts\n",
    "        self.activation = activation\n",
    "        self.weights = None\n",
    "        self.intercepts = None\n",
    "        self.weight_grads = None\n",
    "        self.intercept_grads = None\n",
    "        self.step_input = None\n",
    "        self.reduced_sum = None\n",
    "        self.step_output = None\n",
    "    \n",
    "    def init(self, layer_id, prev_node_count, gd_optimizer):\n",
    "        self.layer_id = layer_id\n",
    "        self.gd_optimizer = gd_optimizer\n",
    "        self.weights, self.intercepts = self.xavier_weight_init(prev_node_count, self.node_count, self.has_intercepts)\n",
    "        self.gd_optimizer.register_layer(self.layer_id, self.weights.shape, self.intercepts.shape)\n",
    "    \n",
    "    def forward(self, step_input):\n",
    "        self.step_input = step_input\n",
    "        self.reduced_sum = np.dot(self.step_input, self.weights)+self.intercepts\n",
    "        self.step_output = self.activation.apply(self.reduced_sum)\n",
    "        return self.step_output\n",
    "    \n",
    "    def back_propagation(self, prev_delta, activation_derivatived=False):\n",
    "        cur_delta = None\n",
    "        if activation_derivatived:\n",
    "            cur_delta = prev_delta\n",
    "        elif self.activation.derivative_use_activated:\n",
    "            cur_delta = prev_delta * self.activation.derivative(self.step_output)\n",
    "        else:\n",
    "            cur_delta = prev_delta * self.activation.derivative(self.reduced_sum)\n",
    "        self.weight_grads = np.dot(np.atleast_2d(self.step_input).T, cur_delta)/cur_delta.shape[0]\n",
    "        self.intercept_grads = cur_delta.mean(axis=0)\n",
    "        return np.dot(cur_delta, self.weights.T)\n",
    "    \n",
    "    def update_weights(self):\n",
    "        weight_deltas, intercept_deltas = \\\n",
    "            self.gd_optimizer.apply(self.layer_id, self.weight_grads, self.intercept_grads)\n",
    "        self.weights -= weight_deltas\n",
    "        if self.has_intercepts:\n",
    "            self.intercepts -= intercept_deltas\n",
    "    \n",
    "    def drop_out(self):\n",
    "        self.weights = np.zeros(self.weights.shape)\n",
    "        self.intercepts = np.zeros(self.intercepts.shape)\n",
    "        self.step_output = np.zeros(self.step_output.shape)\n",
    "    \n",
    "    def xavier_weight_init(self, prev_node_count, cur_node_count, has_intercepts):\n",
    "        weights = np.random.randn(prev_node_count, cur_node_count)/np.sqrt(prev_node_count)\n",
    "        intercepts = np.random.randn(cur_node_count)/np.sqrt(prev_node_count) \\\n",
    "            if has_intercepts else np.zeros(cur_node_count)\n",
    "        return weights, intercepts"
   ]
  },
  {
   "cell_type": "code",
   "execution_count": 43,
   "metadata": {},
   "outputs": [],
   "source": [
    "class NNModel:\n",
    "    def __init__(self, X_size, layers, gd_optimizer):\n",
    "        self.X_size = X_size\n",
    "        self.model = layers\n",
    "        self.gd_optimizer = gd_optimizer\n",
    "        self.init_model()\n",
    "    \n",
    "    # initialize model with layers\n",
    "    def init_model(self):\n",
    "        prev_node_count = self.X_size\n",
    "        for layer_no, layer in enumerate(self.model):\n",
    "            layer.init(layer_no, prev_node_count, self.gd_optimizer)\n",
    "            prev_node_count = layer.node_count\n",
    "    \n",
    "    # forward pass, calculate predict value with current model (batch or single)\n",
    "    def model_forward(self, X):\n",
    "        cur_res = X\n",
    "        for layer in self.model:\n",
    "            cur_res = layer.forward(cur_res)\n",
    "        return cur_res\n",
    "    \n",
    "    # update model with errs (y_predict - y) by back propagation\n",
    "    def update_model(self, y_predict, y):\n",
    "        delta = np.atleast_2d(y_predict - y)\n",
    "        for layer in reversed(self.model):\n",
    "            delta = layer.back_propagation(delta, activation_derivatived=(layer==self.model[-1]))\n",
    "        for layer in self.model:\n",
    "            layer.update_weights()"
   ]
  },
  {
   "cell_type": "markdown",
   "metadata": {},
   "source": [
    "---"
   ]
  },
  {
   "cell_type": "markdown",
   "metadata": {},
   "source": [
    "test"
   ]
  },
  {
   "cell_type": "code",
   "execution_count": 17,
   "metadata": {},
   "outputs": [],
   "source": [
    "import matplotlib.pyplot as plt\n",
    "import sklearn.datasets\n",
    "from sklearn import metrics"
   ]
  },
  {
   "cell_type": "code",
   "execution_count": 18,
   "metadata": {},
   "outputs": [],
   "source": [
    "test_data = sklearn.datasets.load_breast_cancer(return_X_y=False)"
   ]
  },
  {
   "cell_type": "code",
   "execution_count": 19,
   "metadata": {},
   "outputs": [],
   "source": [
    "test_data_x_org = test_data['data']\n",
    "test_data_y_org = test_data['target']"
   ]
  },
  {
   "cell_type": "code",
   "execution_count": 20,
   "metadata": {},
   "outputs": [
    {
     "data": {
      "text/plain": [
       "(569, 30)"
      ]
     },
     "execution_count": 20,
     "metadata": {},
     "output_type": "execute_result"
    }
   ],
   "source": [
    "test_data_x_org.shape"
   ]
  },
  {
   "cell_type": "code",
   "execution_count": 21,
   "metadata": {},
   "outputs": [],
   "source": [
    "test_data_std = (test_data_x_org - np.mean(test_data_x_org, axis=0)) / np.std(test_data_x_org, axis=0)"
   ]
  },
  {
   "cell_type": "code",
   "execution_count": 22,
   "metadata": {},
   "outputs": [],
   "source": [
    "test_data_x = test_data_std[:500]\n",
    "test_data_y = test_data_y_org[:500]"
   ]
  },
  {
   "cell_type": "code",
   "execution_count": 175,
   "metadata": {},
   "outputs": [],
   "source": [
    "learning_rate = 0.05"
   ]
  },
  {
   "cell_type": "code",
   "execution_count": 186,
   "metadata": {},
   "outputs": [],
   "source": [
    "rounds = 200"
   ]
  },
  {
   "cell_type": "code",
   "execution_count": 187,
   "metadata": {},
   "outputs": [],
   "source": [
    "batch_size = 1"
   ]
  },
  {
   "cell_type": "code",
   "execution_count": 197,
   "metadata": {},
   "outputs": [],
   "source": [
    "layers = [\n",
    "    NNLayer(20, True, ActivationSigmoid(x_upper_bound=500, x_lower_bound=-500)),\n",
    "    NNLayer(10, True, ActivationSigmoid(x_upper_bound=500, x_lower_bound=-500)),\n",
    "    NNLayer(1, True, ActivationSigmoid(x_upper_bound=500, x_lower_bound=-500)),\n",
    "]"
   ]
  },
  {
   "cell_type": "code",
   "execution_count": 198,
   "metadata": {},
   "outputs": [],
   "source": [
    "m = NNModel(test_data_x.shape[1], layers, GDOptimizerRMSprop(learning_rate=0.0005))"
   ]
  },
  {
   "cell_type": "code",
   "execution_count": 199,
   "metadata": {
    "scrolled": true
   },
   "outputs": [
    {
     "name": "stdout",
     "output_type": "stream",
     "text": [
      "Wall time: 31.3 s\n"
     ]
    }
   ],
   "source": [
    "%%time\n",
    "all_cost = []\n",
    "all_cost_ce = []\n",
    "for _ in range(rounds):\n",
    "    cost = 0\n",
    "    cost_ce = 0\n",
    "    learning_idx = np.arange(len(test_data_x))\n",
    "    np.random.shuffle(learning_idx)\n",
    "    \n",
    "    for start_idx in range(0, len(test_data_x), batch_size):\n",
    "        data_idx = learning_idx[start_idx : min(start_idx+batch_size,len(test_data_x))]\n",
    "#         data_idx = learning_idx[start_idx]\n",
    "        sample, target = test_data_x[data_idx], test_data_y[data_idx,None]\n",
    "        predict = m.model_forward(sample)\n",
    "        m.update_model(predict, target)\n",
    "        err = predict - target\n",
    "        cost += (err*err).sum()\n",
    "        cost_ce -= (target*np.log(predict)+(1-target)*np.log(1-predict)).sum()\n",
    "    all_cost.append(cost)\n",
    "    all_cost_ce.append(cost_ce)"
   ]
  },
  {
   "cell_type": "code",
   "execution_count": 200,
   "metadata": {},
   "outputs": [
    {
     "data": {
      "text/plain": [
       "[<matplotlib.lines.Line2D at 0xcac7fd0>]"
      ]
     },
     "execution_count": 200,
     "metadata": {},
     "output_type": "execute_result"
    },
    {
     "data": {
      "image/png": "[encoded data removed]",
      "text/plain": [
       "<matplotlib.figure.Figure at 0xc9549b0>"
      ]
     },
     "metadata": {},
     "output_type": "display_data"
    }
   ],
   "source": [
    "plt.figure(figsize=(15,6))\n",
    "plt.plot(all_cost)"
   ]
  },
  {
   "cell_type": "code",
   "execution_count": 201,
   "metadata": {},
   "outputs": [],
   "source": [
    "predict_data_x = test_data_std[500:]\n",
    "predict_data_y = test_data_y_org[500:]"
   ]
  },
  {
   "cell_type": "code",
   "execution_count": 202,
   "metadata": {},
   "outputs": [],
   "source": [
    "predict_y = []\n",
    "for sample, tgt in zip(predict_data_x, predict_data_y):\n",
    "    pct = m.model_forward(sample)\n",
    "    predict_y.append(pct)"
   ]
  },
  {
   "cell_type": "code",
   "execution_count": 203,
   "metadata": {},
   "outputs": [
    {
     "data": {
      "text/plain": [
       "array([[17,  0],\n",
       "       [ 4, 48]], dtype=int64)"
      ]
     },
     "execution_count": 203,
     "metadata": {},
     "output_type": "execute_result"
    }
   ],
   "source": [
    "metrics.confusion_matrix(predict_data_y, [1 if pct > 0.5 else 0 for pct in predict_y])"
   ]
  },
  {
   "cell_type": "code",
   "execution_count": 204,
   "metadata": {},
   "outputs": [
    {
     "data": {
      "text/plain": [
       "8.376945909369782"
      ]
     },
     "execution_count": 204,
     "metadata": {},
     "output_type": "execute_result"
    }
   ],
   "source": [
    "all_cost[-1]"
   ]
  },
  {
   "cell_type": "code",
   "execution_count": null,
   "metadata": {},
   "outputs": [],
   "source": []
  }
 ],
 "metadata": {
  "kernelspec": {
   "display_name": "Python 3",
   "language": "python",
   "name": "python3"
  },
  "language_info": {
   "codemirror_mode": {
    "name": "ipython",
    "version": 3
   },
   "file_extension": ".py",
   "mimetype": "text/x-python",
   "name": "python",
   "nbconvert_exporter": "python",
   "pygments_lexer": "ipython3",
   "version": "3.6.4"
  }
 },
 "nbformat": 4,
 "nbformat_minor": 2
}
