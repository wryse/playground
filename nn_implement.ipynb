{
 "cells": [
  {
   "cell_type": "code",
   "execution_count": 1,
   "metadata": {},
   "outputs": [],
   "source": [
    "import abc"
   ]
  },
  {
   "cell_type": "code",
   "execution_count": 2,
   "metadata": {},
   "outputs": [],
   "source": [
    "import numpy as np"
   ]
  },
  {
   "cell_type": "code",
   "execution_count": 3,
   "metadata": {},
   "outputs": [
    {
     "data": {
      "text/plain": [
       "{'divide': 'warn', 'invalid': 'warn', 'over': 'warn', 'under': 'ignore'}"
      ]
     },
     "execution_count": 3,
     "metadata": {},
     "output_type": "execute_result"
    }
   ],
   "source": [
    "np.seterr(all='raise', under='warn')"
   ]
  },
  {
   "cell_type": "markdown",
   "metadata": {},
   "source": [
    "---"
   ]
  },
  {
   "cell_type": "markdown",
   "metadata": {},
   "source": [
    "activation function"
   ]
  },
  {
   "cell_type": "code",
   "execution_count": 6,
   "metadata": {},
   "outputs": [],
   "source": [
    "class ActivationFunction(abc.ABC):\n",
    "    def __init__(self):\n",
    "        pass\n",
    "    \n",
    "    @abc.abstractmethod\n",
    "    def apply(self, v):\n",
    "        pass\n",
    "    \n",
    "    @abc.abstractmethod\n",
    "    def derivative(self, v, activated_value):\n",
    "        pass"
   ]
  },
  {
   "cell_type": "code",
   "execution_count": 7,
   "metadata": {},
   "outputs": [],
   "source": [
    "class ActivationNone(ActivationFunction):\n",
    "    def __init__(self):\n",
    "        pass\n",
    "    \n",
    "    def apply(self, v):\n",
    "        return v\n",
    "    \n",
    "    def derivative(self, v, activated_value=True):\n",
    "        return 1"
   ]
  },
  {
   "cell_type": "code",
   "execution_count": 189,
   "metadata": {},
   "outputs": [],
   "source": [
    "class ActivationSigmoid(ActivationFunction):\n",
    "    def __init__(self, x_upper_bound=None, x_lower_bound=None):\n",
    "        self.x_upper_bound = x_upper_bound\n",
    "        self.x_lower_bound = x_lower_bound\n",
    "    \n",
    "    def apply(self, v):\n",
    "        if self.x_upper_bound or self.x_upper_bound:\n",
    "            return 1.0 / (1.0 + np.exp(-v.clip(max=self.x_upper_bound, min=self.x_lower_bound)))\n",
    "        return 1.0 / (1.0 + np.exp(-v))\n",
    "    \n",
    "    def derivative(self, v, activated_value=True):\n",
    "        if not activated_value:\n",
    "            v = self.apply(v)\n",
    "        return v * (1 - v)"
   ]
  },
  {
   "cell_type": "code",
   "execution_count": 9,
   "metadata": {},
   "outputs": [],
   "source": [
    "class ActivationRelu(ActivationFunction):\n",
    "    def __init__(self):\n",
    "        pass\n",
    "    \n",
    "    def apply(self, v):\n",
    "        return v.clip(min=0)\n",
    "    \n",
    "    def derivative(self, v, activated_value=True):\n",
    "        if not activated_value:\n",
    "            v = self.apply(v)\n",
    "        return np.where(v>0,1,0)"
   ]
  },
  {
   "cell_type": "markdown",
   "metadata": {},
   "source": [
    "---"
   ]
  },
  {
   "cell_type": "markdown",
   "metadata": {},
   "source": [
    "gd optimizer"
   ]
  },
  {
   "cell_type": "code",
   "execution_count": 10,
   "metadata": {},
   "outputs": [],
   "source": [
    "class GDOptimizer(abc.ABC):\n",
    "    def __init__(self):\n",
    "        pass\n",
    "    \n",
    "    @abc.abstractmethod\n",
    "    def accelerate(self, grads, intercept_grads):\n",
    "        pass"
   ]
  },
  {
   "cell_type": "code",
   "execution_count": 11,
   "metadata": {},
   "outputs": [],
   "source": [
    "class GDOptimizerNone(GDOptimizer):\n",
    "    def __init__(self, learning_rate):\n",
    "        self.learning_rate = learning_rate\n",
    "    \n",
    "    def accelerate(self, grads, intercept_grads):\n",
    "        weight_deltas = [learning_rate * grad for grad in grads]\n",
    "        intercept_deltas = [learning_rate * grad for grad in intercept_grads]\n",
    "        return weight_deltas, intercept_deltas"
   ]
  },
  {
   "cell_type": "code",
   "execution_count": 202,
   "metadata": {},
   "outputs": [],
   "source": [
    "class GDOptimizerMomentum(GDOptimizer):\n",
    "    def __init__(self, learning_rate, gamma=0.9):\n",
    "        self.learning_rate = learning_rate\n",
    "        self.gamma = gamma\n",
    "        self.last_weight_deltas = None\n",
    "        self.last_intercept_deltas = None\n",
    "    \n",
    "    def accelerate(self, grads, intercept_grads):\n",
    "        self.last_weight_deltas = \\\n",
    "            [(self.gamma*self.last_weight_deltas[i] if self.last_weight_deltas is not None else 0)\n",
    "             + self.learning_rate*grads[i] for i in range(len(grads))]\n",
    "        self.last_intercept_deltas = \\\n",
    "            [(self.gamma*self.last_intercept_deltas[i] if self.last_intercept_deltas is not None else 0)\n",
    "             + self.learning_rate*intercept_grads[i] for i in range(len(intercept_grads))]\n",
    "        return self.last_weight_deltas, self.last_intercept_deltas"
   ]
  },
  {
   "cell_type": "code",
   "execution_count": 13,
   "metadata": {},
   "outputs": [],
   "source": [
    "class GDOptimizerAdagrad(GDOptimizer):\n",
    "    def __init__(self, learning_rate=0.01, epsilon=1e-8):\n",
    "        self.learning_rate = learning_rate\n",
    "        self.epsilon = epsilon\n",
    "        \n",
    "        "
   ]
  },
  {
   "cell_type": "code",
   "execution_count": 14,
   "metadata": {},
   "outputs": [],
   "source": [
    "class GDOptimizerAdadelta(GDOptimizer):\n",
    "    def __init__(self, gamma=0.9, epsilon=1e-8):\n",
    "        self.gamma = gamma\n",
    "        self.epsilon = epsilon\n",
    "        \n",
    "        "
   ]
  },
  {
   "cell_type": "code",
   "execution_count": 15,
   "metadata": {},
   "outputs": [],
   "source": [
    "class GDOptimizerRMSprop(GDOptimizer):\n",
    "    def __init__(self, learning_rate=0.001, gamma=0.9, epsilon=1e-8):\n",
    "        self.learning_rate = learning_rate\n",
    "        self.gamma = gamma\n",
    "        self.epsilon = epsilon\n",
    "        \n",
    "        "
   ]
  },
  {
   "cell_type": "markdown",
   "metadata": {},
   "source": [
    "---"
   ]
  },
  {
   "cell_type": "markdown",
   "metadata": {},
   "source": [
    "nn model"
   ]
  },
  {
   "cell_type": "code",
   "execution_count": 141,
   "metadata": {},
   "outputs": [],
   "source": [
    "class NNLayer:\n",
    "    def __init__(self, node_count, activation):\n",
    "        self.node_count = node_count\n",
    "        self.activation = activation\n",
    "        self.weights = None\n",
    "        self.intercepts = None\n",
    "    \n",
    "    def init_weights(self, prev_node_count, has_intercepts):\n",
    "        self.weights, self.intercepts = self.xavier_weight_init(prev_node_count, self.node_count, has_intercepts)\n",
    "        \n",
    "    def update_weights(self, weight_deltas, intercept_deltas):\n",
    "        self.weights -= weight_deltas\n",
    "        self.intercepts -= intercept_deltas\n",
    "    \n",
    "    def xavier_weight_init(self, prev_node_count, cur_node_count, has_intercepts):\n",
    "        weights = np.random.randn(prev_node_count, cur_node_count)/np.sqrt(prev_node_count)\n",
    "        intercepts = np.random.randn(cur_node_count)/np.sqrt(prev_node_count) \\\n",
    "            if has_intercepts else np.zeros(cur_node_count)\n",
    "        return weights, intercepts"
   ]
  },
  {
   "cell_type": "code",
   "execution_count": 142,
   "metadata": {},
   "outputs": [],
   "source": [
    "class NNModel:\n",
    "    def __init__(self, X_size, layers, gd_optimizer, has_interception=True):\n",
    "        self.X_size = X_size\n",
    "        self.has_interception = has_interception\n",
    "        self.model = layers\n",
    "        self.gd_optimizer = gd_optimizer\n",
    "        self.hidden_layer_res = []\n",
    "        self.init_model()\n",
    "    \n",
    "    # initialize model with layers\n",
    "    def init_model(self):\n",
    "        prev_node_count = self.X_size\n",
    "        for layer in self.model:\n",
    "            layer.init_weights(prev_node_count, self.has_interception)\n",
    "            prev_node_count = layer.node_count\n",
    "    \n",
    "    # forward pass, calculate predict value with current model (batch or single)\n",
    "    def model_forward(self, X):\n",
    "        cur_res = X\n",
    "        self.hidden_layer_res.clear()\n",
    "        for layer in self.model:\n",
    "            self.hidden_layer_res.append(cur_res)\n",
    "            cur_res = np.dot(cur_res, layer.weights) + layer.intercepts\n",
    "            cur_res = layer.activation.apply(cur_res)\n",
    "        return cur_res\n",
    "    \n",
    "    # update model with errs (y_predict - y)\n",
    "    def update_model(self, errs):\n",
    "        grads, intercept_grads = self.back_propagation(errs)\n",
    "        weight_deltas, intercept_deltas = self.gd_optimizer.accelerate(grads, intercept_grads)\n",
    "        for i in range(len(self.model)):\n",
    "            self.model[i].update_weights(weight_deltas[i], intercept_deltas[i])\n",
    "    \n",
    "    # back propagation to get gradient (batch or single)\n",
    "    def back_propagation(self, errs):\n",
    "        delta = np.atleast_2d(errs)\n",
    "        reversed_grads = [np.dot(np.atleast_2d(self.hidden_layer_res[-1]).T, delta)/delta.shape[0]]\n",
    "        reversed_grads_intercept = [delta.mean(axis=0)]\n",
    "        for i in range(len(self.model)-2, -1, -1):\n",
    "            delta = np.dot(delta, self.model[i+1].weights.T) \\\n",
    "                    * self.model[i].activation.derivative(self.hidden_layer_res[i+1])\n",
    "            reversed_grads.append(np.dot(np.atleast_2d(self.hidden_layer_res[i]).T, delta)/delta.shape[0])\n",
    "            reversed_grads_intercept.append(delta.mean(axis=0))\n",
    "        \n",
    "        return list(reversed(reversed_grads)), list(reversed(reversed_grads_intercept))"
   ]
  },
  {
   "cell_type": "markdown",
   "metadata": {},
   "source": [
    "---"
   ]
  },
  {
   "cell_type": "markdown",
   "metadata": {},
   "source": [
    "test"
   ]
  },
  {
   "cell_type": "code",
   "execution_count": 21,
   "metadata": {},
   "outputs": [],
   "source": [
    "import matplotlib.pyplot as plt\n",
    "import sklearn.datasets\n",
    "from sklearn import metrics"
   ]
  },
  {
   "cell_type": "code",
   "execution_count": 22,
   "metadata": {},
   "outputs": [],
   "source": [
    "test_data = sklearn.datasets.load_breast_cancer(return_X_y=False)"
   ]
  },
  {
   "cell_type": "code",
   "execution_count": 23,
   "metadata": {},
   "outputs": [],
   "source": [
    "test_data_x_org = test_data['data']\n",
    "test_data_y_org = test_data['target']"
   ]
  },
  {
   "cell_type": "code",
   "execution_count": 24,
   "metadata": {},
   "outputs": [
    {
     "data": {
      "text/plain": [
       "(569, 30)"
      ]
     },
     "execution_count": 24,
     "metadata": {},
     "output_type": "execute_result"
    }
   ],
   "source": [
    "test_data_x_org.shape"
   ]
  },
  {
   "cell_type": "code",
   "execution_count": 25,
   "metadata": {},
   "outputs": [],
   "source": [
    "test_data_std = (test_data_x_org - np.mean(test_data_x_org, axis=0)) / np.std(test_data_x_org, axis=0)"
   ]
  },
  {
   "cell_type": "code",
   "execution_count": 26,
   "metadata": {},
   "outputs": [],
   "source": [
    "test_data_x = test_data_std[:500]\n",
    "test_data_y = test_data_y_org[:500]"
   ]
  },
  {
   "cell_type": "code",
   "execution_count": 27,
   "metadata": {},
   "outputs": [],
   "source": [
    "learning_rate = 0.3"
   ]
  },
  {
   "cell_type": "code",
   "execution_count": 175,
   "metadata": {},
   "outputs": [],
   "source": [
    "rounds = 1000"
   ]
  },
  {
   "cell_type": "code",
   "execution_count": 176,
   "metadata": {},
   "outputs": [],
   "source": [
    "batch_size = 50"
   ]
  },
  {
   "cell_type": "code",
   "execution_count": 203,
   "metadata": {},
   "outputs": [],
   "source": [
    "layers = [\n",
    "    NNLayer(20, ActivationSigmoid()),\n",
    "    NNLayer(10, ActivationSigmoid()),\n",
    "    NNLayer(1, ActivationSigmoid()),\n",
    "]"
   ]
  },
  {
   "cell_type": "code",
   "execution_count": 204,
   "metadata": {},
   "outputs": [],
   "source": [
    "m = NNModel(test_data_x.shape[1], layers, GDOptimizerMomentum(learning_rate=learning_rate))"
   ]
  },
  {
   "cell_type": "code",
   "execution_count": 205,
   "metadata": {
    "scrolled": true
   },
   "outputs": [
    {
     "name": "stdout",
     "output_type": "stream",
     "text": [
      "Wall time: 3.38 s\n"
     ]
    }
   ],
   "source": [
    "%%time\n",
    "all_cost = []\n",
    "all_cost_ce = []\n",
    "for _ in range(rounds):\n",
    "    cost = 0\n",
    "    cost_ce = 0\n",
    "    learning_idx = np.arange(len(test_data_x))\n",
    "    np.random.shuffle(learning_idx)\n",
    "    \n",
    "    for start_idx in range(0, len(test_data_x), batch_size):\n",
    "        data_idx = learning_idx[start_idx : min(start_idx+batch_size,len(test_data_x))]\n",
    "#         data_idx = learning_idx[start_idx]\n",
    "        sample, target = test_data_x[data_idx], test_data_y[data_idx,None]\n",
    "        predict = m.model_forward(sample)\n",
    "        err = predict - target\n",
    "        m.update_model(err)\n",
    "        cost += (err*err).sum()\n",
    "        cost_ce -= (target*np.log(predict)+(1-target)*np.log(1-predict)).sum()\n",
    "    all_cost.append(cost)\n",
    "    all_cost_ce.append(cost_ce)"
   ]
  },
  {
   "cell_type": "code",
   "execution_count": 206,
   "metadata": {},
   "outputs": [
    {
     "data": {
      "text/plain": [
       "[<matplotlib.lines.Line2D at 0xbcc0190>]"
      ]
     },
     "execution_count": 206,
     "metadata": {},
     "output_type": "execute_result"
    },
    {
     "data": {
      "image/png": "[encoded data removed]",
      "text/plain": [
       "<matplotlib.figure.Figure at 0xba62210>"
      ]
     },
     "metadata": {},
     "output_type": "display_data"
    }
   ],
   "source": [
    "plt.figure(figsize=(15,6))\n",
    "plt.plot(all_cost)"
   ]
  },
  {
   "cell_type": "code",
   "execution_count": 207,
   "metadata": {},
   "outputs": [],
   "source": [
    "predict_data_x = test_data_std[500:]\n",
    "predict_data_y = test_data_y_org[500:]"
   ]
  },
  {
   "cell_type": "code",
   "execution_count": 208,
   "metadata": {},
   "outputs": [],
   "source": [
    "predict_y = []\n",
    "for sample, tgt in zip(predict_data_x, predict_data_y):\n",
    "    pct = m.model_forward(sample)\n",
    "    predict_y.append(pct)"
   ]
  },
  {
   "cell_type": "code",
   "execution_count": 209,
   "metadata": {},
   "outputs": [
    {
     "data": {
      "text/plain": [
       "array([[17,  0],\n",
       "       [ 2, 50]], dtype=int64)"
      ]
     },
     "execution_count": 209,
     "metadata": {},
     "output_type": "execute_result"
    }
   ],
   "source": [
    "metrics.confusion_matrix(predict_data_y, [1 if pct > 0.5 else 0 for pct in predict_y])"
   ]
  },
  {
   "cell_type": "code",
   "execution_count": 210,
   "metadata": {},
   "outputs": [
    {
     "data": {
      "text/plain": [
       "3.1067647858223854e-05"
      ]
     },
     "execution_count": 210,
     "metadata": {},
     "output_type": "execute_result"
    }
   ],
   "source": [
    "all_cost[-1]"
   ]
  },
  {
   "cell_type": "code",
   "execution_count": null,
   "metadata": {},
   "outputs": [],
   "source": []
  }
 ],
 "metadata": {
  "kernelspec": {
   "display_name": "Python 3",
   "language": "python",
   "name": "python3"
  },
  "language_info": {
   "codemirror_mode": {
    "name": "ipython",
    "version": 3
   },
   "file_extension": ".py",
   "mimetype": "text/x-python",
   "name": "python",
   "nbconvert_exporter": "python",
   "pygments_lexer": "ipython3",
   "version": "3.6.4"
  }
 },
 "nbformat": 4,
 "nbformat_minor": 2
}
