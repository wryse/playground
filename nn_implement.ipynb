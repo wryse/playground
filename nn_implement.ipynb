{
 "cells": [
  {
   "cell_type": "code",
   "execution_count": 1,
   "metadata": {},
   "outputs": [],
   "source": [
    "import abc"
   ]
  },
  {
   "cell_type": "code",
   "execution_count": 2,
   "metadata": {},
   "outputs": [],
   "source": [
    "import numpy as np"
   ]
  },
  {
   "cell_type": "code",
   "execution_count": 3,
   "metadata": {},
   "outputs": [
    {
     "data": {
      "text/plain": [
       "{'divide': 'warn', 'invalid': 'warn', 'over': 'warn', 'under': 'ignore'}"
      ]
     },
     "execution_count": 3,
     "metadata": {},
     "output_type": "execute_result"
    }
   ],
   "source": [
    "np.seterr(all='raise', under='warn')"
   ]
  },
  {
   "cell_type": "code",
   "execution_count": 4,
   "metadata": {},
   "outputs": [],
   "source": [
    "np.set_printoptions(precision=20)"
   ]
  },
  {
   "cell_type": "markdown",
   "metadata": {},
   "source": [
    "---"
   ]
  },
  {
   "cell_type": "markdown",
   "metadata": {},
   "source": [
    "activation function"
   ]
  },
  {
   "cell_type": "code",
   "execution_count": 5,
   "metadata": {},
   "outputs": [],
   "source": [
    "class ActivationFunction(abc.ABC):\n",
    "    \"\"\"Base class for activation functions.\"\"\"\n",
    "    \n",
    "    def __init__(self):\n",
    "        \"\"\"Init function. Nothing needs to do in the base class.\"\"\"\n",
    "        pass\n",
    "    \n",
    "    @property\n",
    "    @abc.abstractmethod\n",
    "    def derivative_use_activated(self):\n",
    "        \"\"\"Boolean: If derivative of the activation function can be calculated\n",
    "        using activated value.\n",
    "        \"\"\"\n",
    "        pass\n",
    "    \n",
    "    @abc.abstractmethod\n",
    "    def apply(self, v):\n",
    "        \"\"\"Apply activation function on the data.\n",
    "        \n",
    "        Args:\n",
    "            v (np.array): Data\n",
    "        \n",
    "        Returns:\n",
    "            Activated values\n",
    "        \"\"\"\n",
    "        pass\n",
    "    \n",
    "    @abc.abstractmethod\n",
    "    def derivative(self, v):\n",
    "        \"\"\"Calculate derivative wrt input of activation function.\n",
    "        \n",
    "        Args:\n",
    "            v (np.array): input of activation function if derivative_use_activated is false,\n",
    "                output of activation function otherwise\n",
    "        \n",
    "        Returns:\n",
    "            Derivative wrt input of activation function\n",
    "        \"\"\"\n",
    "        pass"
   ]
  },
  {
   "cell_type": "code",
   "execution_count": 6,
   "metadata": {},
   "outputs": [],
   "source": [
    "class ActivationNone(ActivationFunction):\n",
    "    \"\"\"For not using an activation function\"\"\"\n",
    "    \n",
    "    def __init__(self):\n",
    "        \"\"\"Init function. Do nothing.\"\"\"\n",
    "        pass\n",
    "    \n",
    "    @property\n",
    "    def derivative_use_activated(self):\n",
    "        \"\"\"Arbitrary. Not used.\"\"\"\n",
    "        return True\n",
    "    \n",
    "    def apply(self, v):\n",
    "        \"\"\"Return input as output as no activation needs to be applied.\n",
    "        \n",
    "        Args:\n",
    "            v (np.array): Data\n",
    "        \n",
    "        Returns:\n",
    "            The same as input v\n",
    "        \"\"\"\n",
    "        return v\n",
    "    \n",
    "    def derivative(self, v):\n",
    "        \"\"\"Calculate derivative wrt input of activation function.\n",
    "        \n",
    "        Args:\n",
    "            v (np.array): input of activation function if derivative_use_activated is false,\n",
    "                output of activation function otherwise\n",
    "        \n",
    "        Returns:\n",
    "            Always 1\n",
    "        \"\"\"\n",
    "        return 1"
   ]
  },
  {
   "cell_type": "code",
   "execution_count": 7,
   "metadata": {},
   "outputs": [],
   "source": [
    "class ActivationSigmoid(ActivationFunction):\n",
    "    \"\"\"Sigmoid function. Data out of bounds will be clipped.\"\"\"\n",
    "    \n",
    "    def __init__(self, x_upper_bound=None, x_lower_bound=None):\n",
    "        \"\"\"Init function.\n",
    "        \n",
    "        Args:\n",
    "            x_upper_bound (int): Upper bound of sigmoid input\n",
    "            x_lower_bound (int): Lower bound of sigmoid input\n",
    "        \"\"\"\n",
    "        self.x_upper_bound = x_upper_bound\n",
    "        self.x_lower_bound = x_lower_bound\n",
    "    \n",
    "    @property\n",
    "    def derivative_use_activated(self):\n",
    "        \"\"\"Use sigmoid result to calculate derivative.\"\"\"\n",
    "        return True\n",
    "    \n",
    "    def apply(self, v):\n",
    "        \"\"\"Apply sigmoid function to data.\n",
    "        \n",
    "        Args:\n",
    "            v (np.array): Data\n",
    "        \n",
    "        Returns:\n",
    "            1 / (1 + exp(v)). v will be clipped if bounds are set.\n",
    "        \"\"\"\n",
    "        if self.x_upper_bound or self.x_upper_bound:\n",
    "            return 1.0 / (1.0 + np.exp(-v.clip(max=self.x_upper_bound, min=self.x_lower_bound)))\n",
    "        return 1.0 / (1.0 + np.exp(-v))\n",
    "    \n",
    "    def derivative(self, v):\n",
    "        \"\"\"Calculate derivative wrt input of activation function.\n",
    "        \n",
    "        Args:\n",
    "            v (np.array): input of activation function if derivative_use_activated is false,\n",
    "                output of activation function otherwise\n",
    "        \n",
    "        Returns:\n",
    "            v * (1 - v)\n",
    "        \"\"\"\n",
    "        return v * (1 - v)"
   ]
  },
  {
   "cell_type": "code",
   "execution_count": 8,
   "metadata": {},
   "outputs": [],
   "source": [
    "class ActivationRelu(ActivationFunction):\n",
    "    \"\"\"Relu function.\"\"\"\n",
    "    def __init__(self):\n",
    "        \"\"\"Init function. Do nothing.\"\"\"\n",
    "        pass\n",
    "    \n",
    "    @property\n",
    "    def derivative_use_activated(self):\n",
    "        \"\"\"Use result to calculate derivative.\"\"\"\n",
    "        return True\n",
    "    \n",
    "    def apply(self, v):\n",
    "        \"\"\"Apply Relu to data.\n",
    "        \n",
    "        Args:\n",
    "            v (np.array): Data\n",
    "        \n",
    "        Returns:\n",
    "            v if v > 0, otherwise 0\n",
    "        \"\"\"\n",
    "        return v.clip(min=0)\n",
    "    \n",
    "    def derivative(self, v):\n",
    "        \"\"\"Calculate derivative wrt input of activation function.\n",
    "        \n",
    "        Args:\n",
    "            v (np.array): input of activation function if derivative_use_activated is false,\n",
    "                output of activation function otherwise\n",
    "        \n",
    "        Returns:\n",
    "            1 if v > 0, otherwise 0\n",
    "        \"\"\"\n",
    "        return np.where(v>0, 1, 0)"
   ]
  },
  {
   "cell_type": "markdown",
   "metadata": {},
   "source": [
    "---"
   ]
  },
  {
   "cell_type": "markdown",
   "metadata": {},
   "source": [
    "gd optimizer"
   ]
  },
  {
   "cell_type": "code",
   "execution_count": 9,
   "metadata": {},
   "outputs": [],
   "source": [
    "class GDOptimizer(abc.ABC):\n",
    "    \"\"\"Base class for gradient descent optimizer. One optimizer to N layers.\"\"\"\n",
    "    \n",
    "    def __init__(self):\n",
    "        \"\"\"Init function.\n",
    "        \n",
    "        Attributes:\n",
    "            weight_infos (dict): buff to store any step result for weight\n",
    "            intercept_infos (dict): buff to store any step result for intercept\n",
    "        \"\"\"\n",
    "        self.weight_infos = {}\n",
    "        self.intercept_infos = {}\n",
    "    \n",
    "    def register_layer(self, layer_id, weight_shape, intercept_shape):\n",
    "        \"\"\"Register layer which will use this optimizer.\n",
    "        \n",
    "        Args:\n",
    "            layer_id (int/str): key to specify the layer\n",
    "            weight_shape (int): shape of weight of the layer\n",
    "            intercept_shape (int): shape of intercept of the layer\n",
    "        \"\"\"\n",
    "        self.weight_infos[layer_id] = np.zeros(weight_shape)\n",
    "        self.intercept_infos[layer_id] = np.zeros(intercept_shape)\n",
    "    \n",
    "    @abc.abstractmethod\n",
    "    def apply(self, layer_id, grads, intercept_grads):\n",
    "        \"\"\"Apply optimizer to current gradients for update.\n",
    "        \n",
    "        Args:\n",
    "            layer_id (int/str): key to specify the layer\n",
    "            grads (np.array): gradients of weight\n",
    "            intercept_grads (np.array): gradients of intercept\n",
    "        \n",
    "        Returns:\n",
    "            optimized gradients/update value\n",
    "        \"\"\"\n",
    "        pass"
   ]
  },
  {
   "cell_type": "code",
   "execution_count": 10,
   "metadata": {},
   "outputs": [],
   "source": [
    "class GDOptimizerNone(GDOptimizer):\n",
    "    \"\"\"Do no optimization, apply learning rate only.\"\"\"\n",
    "    \n",
    "    def __init__(self, learning_rate):\n",
    "        \"\"\"Init function.\n",
    "        \n",
    "        Attributes:\n",
    "            learning_rate (float): learning rate\n",
    "        \"\"\"\n",
    "        GDOptimizer.__init__(self)\n",
    "        self.learning_rate = learning_rate\n",
    "    \n",
    "    def apply(self, layer_id, grads, intercept_grads):\n",
    "        \"\"\"Apply optimizer to current gradients for update.\n",
    "        \n",
    "        Args:\n",
    "            layer_id (int/str): key to specify the layer\n",
    "            grads (np.array): gradients of weight\n",
    "            intercept_grads (np.array): gradients of intercept\n",
    "        \n",
    "        Returns:\n",
    "            learning_rate * gradients\n",
    "        \"\"\"\n",
    "        return self.learning_rate * grads, self.learning_rate * intercept_grads"
   ]
  },
  {
   "cell_type": "code",
   "execution_count": 11,
   "metadata": {},
   "outputs": [],
   "source": [
    "# Need a smaller learning rate(0.01?)\n",
    "class GDOptimizerMomentum(GDOptimizer):\n",
    "    \"\"\"Momentum for SGD.\n",
    "    \n",
    "    In Momentum, weight_infos and intercept_infos stores the last calculated weight deltas.\n",
    "    \"\"\"\n",
    "    \n",
    "    def __init__(self, learning_rate, gamma=0.9):\n",
    "        \"\"\"Init function.\n",
    "        \n",
    "        Attributes:\n",
    "            learning_rate (float): learning rate\n",
    "            gamma (float): rate of the update vector of the past time step to add on, default 0.9\n",
    "        \"\"\"\n",
    "        GDOptimizer.__init__(self)\n",
    "        self.learning_rate = learning_rate\n",
    "        self.gamma = gamma\n",
    "    \n",
    "    def apply(self, layer_id, grads, intercept_grads):\n",
    "        \"\"\"Apply optimizer to current gradients for update.\n",
    "        \n",
    "        Args:\n",
    "            layer_id (int/str): key to specify the layer\n",
    "            grads (np.array): gradients of weight\n",
    "            intercept_grads (np.array): gradients of intercept\n",
    "        \n",
    "        Returns:\n",
    "            gamma * last_gradients + learning_rate * current_gradients\n",
    "        \"\"\"\n",
    "        self.weight_infos[layer_id] = self.gamma*self.weight_infos[layer_id] + self.learning_rate*grads\n",
    "        self.intercept_infos[layer_id] = self.gamma*self.intercept_infos[layer_id] + self.learning_rate*intercept_grads\n",
    "        return self.weight_infos[layer_id], self.intercept_infos[layer_id]"
   ]
  },
  {
   "cell_type": "code",
   "execution_count": 12,
   "metadata": {},
   "outputs": [],
   "source": [
    "class GDOptimizerAdagrad(GDOptimizer):\n",
    "    def __init__(self, learning_rate=0.01, epsilon=1e-8):\n",
    "        GDOptimizer.__init__(self)\n",
    "        self.learning_rate = learning_rate\n",
    "        self.epsilon = epsilon\n",
    "    \n",
    "    def apply(self, layer_id, grads, intercept_grads):\n",
    "        # TODO\n",
    "        "
   ]
  },
  {
   "cell_type": "code",
   "execution_count": 13,
   "metadata": {},
   "outputs": [],
   "source": [
    "class GDOptimizerAdadelta(GDOptimizer):\n",
    "    def __init__(self, gamma=0.9, epsilon=1e-8):\n",
    "        GDOptimizer.__init__(self)\n",
    "        self.gamma = gamma\n",
    "        self.epsilon = epsilon\n",
    "    \n",
    "    def apply(self, layer_id, grads, intercept_grads):\n",
    "        # TODO\n",
    "        "
   ]
  },
  {
   "cell_type": "code",
   "execution_count": 14,
   "metadata": {},
   "outputs": [],
   "source": [
    "# TODO: Problems here, got a large error in the end and maybe not converged?\n",
    "class GDOptimizerRMSprop(GDOptimizer):\n",
    "    \"\"\"RMSprop.\n",
    "    \n",
    "    In RMSprop, weight_infos and intercept_infos stores the last calculated E[g^2].\n",
    "    \"\"\"\n",
    "    \n",
    "    def __init__(self, learning_rate=0.001, gamma=0.9, epsilon=1e-8):\n",
    "        \"\"\"Init function.\n",
    "        \n",
    "        Attributes:\n",
    "            learning_rate (float): learning rate, default 0.001\n",
    "            gamma (float): rate of the update E[g^2] of the past time step to add on, default 0.9\n",
    "            epsilon (float):  smoothing term that avoids division by zero, default 1e-8\n",
    "        \"\"\"\n",
    "        GDOptimizer.__init__(self)\n",
    "        self.learning_rate = learning_rate\n",
    "        self.gamma = gamma\n",
    "        self.epsilon = epsilon\n",
    "        \n",
    "    def apply(self, layer_id, grads, intercept_grads):\n",
    "        \"\"\"Apply optimizer to current gradients for update.\n",
    "        \n",
    "        Args:\n",
    "            layer_id (int/str): key to specify the layer\n",
    "            grads (np.array): gradients of weight\n",
    "            intercept_grads (np.array): gradients of intercept\n",
    "        \n",
    "        Returns:\n",
    "            E[g^2] = gamma * last_E[g^2] + (1-gamma) * current_gradients^2\n",
    "            learning_rate * gradients / sqrt(E[g^2] + epsilon)\n",
    "        \"\"\"\n",
    "        self.weight_infos[layer_id] = self.gamma*self.weight_infos[layer_id] \\\n",
    "            + (1-self.gamma)*np.power(grads,2)\n",
    "        self.intercept_infos[layer_id] = self.gamma*self.intercept_infos[layer_id] \\\n",
    "            + (1-self.gamma)*np.power(intercept_grads,2)\n",
    "        weight_delta = self.learning_rate * grads / np.sqrt(self.weight_infos[layer_id] + self.epsilon)\n",
    "        intercept_delta = self.learning_rate * intercept_grads / np.sqrt(self.intercept_infos[layer_id] + self.epsilon)\n",
    "        return weight_delta, intercept_delta"
   ]
  },
  {
   "cell_type": "markdown",
   "metadata": {},
   "source": [
    "---"
   ]
  },
  {
   "cell_type": "markdown",
   "metadata": {},
   "source": [
    "nn model"
   ]
  },
  {
   "cell_type": "code",
   "execution_count": 15,
   "metadata": {},
   "outputs": [],
   "source": [
    "class NNLayer:\n",
    "    \"\"\"Single layer of neural network\"\"\"\n",
    "    \n",
    "    def __init__(self, node_count, has_intercepts, activation):\n",
    "        \"\"\"Init function.\n",
    "        \n",
    "        Attributes:\n",
    "            layer_id (int/str): ID of current layer\n",
    "            node_count (int): number of nodes of current layer\n",
    "            has_intercepts (boolean): flag if the nodes of the layer has intercept terms\n",
    "            activation (ActivationFunction): activation function\n",
    "            gd_optimizer (GDOptimizer): gradient descent optimizer for GD update\n",
    "            weights (np.array): input weights of all nodes\n",
    "            intercepts (np.array): intercepts of all nodes\n",
    "            weight_grads (np.array): weight gradients of all nodes of current step \n",
    "            intercept_grads (np.array): intercept gradients of all nodes of current step \n",
    "            step_input (np.array): input of current step\n",
    "            reduced_sum (np.array): reduced sum of input before activation of current step \n",
    "            step_output (np.array): output of current step\n",
    "        \"\"\"\n",
    "        self.layer_id = None\n",
    "        self.node_count = node_count\n",
    "        self.has_intercepts = has_intercepts\n",
    "        self.activation = activation\n",
    "        self.gd_optimizer = None\n",
    "        self.weights = None\n",
    "        self.intercepts = None\n",
    "        self.weight_grads = None\n",
    "        self.intercept_grads = None\n",
    "        self.step_input = None\n",
    "        self.reduced_sum = None\n",
    "        self.step_output = None\n",
    "    \n",
    "    def init(self, layer_id, prev_node_count, gd_optimizer):\n",
    "        \"\"\"Initialize layer info and nodes.\n",
    "        \n",
    "        Args:\n",
    "            layer_id (int/str): ID of current layer\n",
    "            prev_node_count (int): number of input of current layer\n",
    "            gd_optimizer (GDOptimizer): gradient descent optimizer for GD update\n",
    "        \"\"\"\n",
    "        self.layer_id = layer_id\n",
    "        self.gd_optimizer = gd_optimizer\n",
    "        self.weights, self.intercepts = self.xavier_weight_init(prev_node_count, self.node_count, self.has_intercepts)\n",
    "        self.gd_optimizer.register_layer(self.layer_id, self.weights.shape, self.intercepts.shape)\n",
    "    \n",
    "    def forward(self, step_input):\n",
    "        \"\"\"Run through the layer with given input to get output.\n",
    "        \n",
    "        Args:\n",
    "            step_input (np.array): input data\n",
    "        \n",
    "        Returns:\n",
    "            Result calculated by current layer\n",
    "            activation(input*weights+intercepts)\n",
    "        \"\"\"\n",
    "        self.step_input = step_input\n",
    "        self.reduced_sum = np.dot(self.step_input, self.weights)+self.intercepts\n",
    "        self.step_output = self.activation.apply(self.reduced_sum)\n",
    "        return self.step_output\n",
    "    \n",
    "    def back_propagation(self, prev_delta, activation_derivatived=False):\n",
    "        cur_delta = None\n",
    "        if activation_derivatived:\n",
    "            cur_delta = prev_delta\n",
    "        elif self.activation.derivative_use_activated:\n",
    "            cur_delta = prev_delta * self.activation.derivative(self.step_output)\n",
    "        else:\n",
    "            cur_delta = prev_delta * self.activation.derivative(self.reduced_sum)\n",
    "        self.weight_grads = np.dot(np.atleast_2d(self.step_input).T, cur_delta)/cur_delta.shape[0]\n",
    "        self.intercept_grads = cur_delta.mean(axis=0)\n",
    "        return np.dot(cur_delta, self.weights.T)\n",
    "    \n",
    "    def update_weights(self):\n",
    "        weight_deltas, intercept_deltas = \\\n",
    "            self.gd_optimizer.apply(self.layer_id, self.weight_grads, self.intercept_grads)\n",
    "        self.weights -= weight_deltas\n",
    "        if self.has_intercepts:\n",
    "            self.intercepts -= intercept_deltas\n",
    "    \n",
    "    def drop_out(self):\n",
    "        self.weights = np.zeros(self.weights.shape)\n",
    "        self.intercepts = np.zeros(self.intercepts.shape)\n",
    "        self.step_output = np.zeros(self.step_output.shape)\n",
    "    \n",
    "    def xavier_weight_init(self, prev_node_count, cur_node_count, has_intercepts):\n",
    "        weights = np.random.randn(prev_node_count, cur_node_count)/np.sqrt(prev_node_count)\n",
    "        intercepts = np.random.randn(cur_node_count)/np.sqrt(prev_node_count) \\\n",
    "            if has_intercepts else np.zeros(cur_node_count)\n",
    "        return weights, intercepts"
   ]
  },
  {
   "cell_type": "code",
   "execution_count": 16,
   "metadata": {},
   "outputs": [],
   "source": [
    "class NNModel:\n",
    "    def __init__(self, X_size, layers, gd_optimizer):\n",
    "        self.X_size = X_size\n",
    "        self.model = layers\n",
    "        self.gd_optimizer = gd_optimizer\n",
    "        self.init_model()\n",
    "    \n",
    "    # initialize model with layers\n",
    "    def init_model(self):\n",
    "        prev_node_count = self.X_size\n",
    "        for layer_no, layer in enumerate(self.model):\n",
    "            layer.init(layer_no, prev_node_count, self.gd_optimizer)\n",
    "            prev_node_count = layer.node_count\n",
    "    \n",
    "    # forward pass, calculate predict value with current model (batch or single)\n",
    "    def model_forward(self, X):\n",
    "        cur_res = X\n",
    "        for layer in self.model:\n",
    "            cur_res = layer.forward(cur_res)\n",
    "        return cur_res\n",
    "    \n",
    "    # update model with errs (y_predict - y) by back propagation\n",
    "    def update_model(self, y_predict, y):\n",
    "        delta = np.atleast_2d(y_predict - y)\n",
    "        for layer in reversed(self.model):\n",
    "            delta = layer.back_propagation(delta, activation_derivatived=(layer==self.model[-1]))\n",
    "        for layer in self.model:\n",
    "            layer.update_weights()"
   ]
  },
  {
   "cell_type": "markdown",
   "metadata": {},
   "source": [
    "---"
   ]
  },
  {
   "cell_type": "markdown",
   "metadata": {},
   "source": [
    "test"
   ]
  },
  {
   "cell_type": "code",
   "execution_count": 17,
   "metadata": {},
   "outputs": [],
   "source": [
    "import matplotlib.pyplot as plt\n",
    "import sklearn.datasets\n",
    "from sklearn import metrics"
   ]
  },
  {
   "cell_type": "code",
   "execution_count": 18,
   "metadata": {},
   "outputs": [],
   "source": [
    "test_data = sklearn.datasets.load_breast_cancer(return_X_y=False)"
   ]
  },
  {
   "cell_type": "code",
   "execution_count": 19,
   "metadata": {},
   "outputs": [],
   "source": [
    "test_data_x_org = test_data['data']\n",
    "test_data_y_org = test_data['target']"
   ]
  },
  {
   "cell_type": "code",
   "execution_count": 20,
   "metadata": {},
   "outputs": [
    {
     "data": {
      "text/plain": [
       "(569, 30)"
      ]
     },
     "execution_count": 20,
     "metadata": {},
     "output_type": "execute_result"
    }
   ],
   "source": [
    "test_data_x_org.shape"
   ]
  },
  {
   "cell_type": "code",
   "execution_count": 21,
   "metadata": {},
   "outputs": [],
   "source": [
    "test_data_std = (test_data_x_org - np.mean(test_data_x_org, axis=0)) / np.std(test_data_x_org, axis=0)"
   ]
  },
  {
   "cell_type": "code",
   "execution_count": 22,
   "metadata": {},
   "outputs": [],
   "source": [
    "test_data_x = test_data_std[:500]\n",
    "test_data_y = test_data_y_org[:500]"
   ]
  },
  {
   "cell_type": "code",
   "execution_count": 54,
   "metadata": {},
   "outputs": [],
   "source": [
    "learning_rate = 0.1"
   ]
  },
  {
   "cell_type": "code",
   "execution_count": 55,
   "metadata": {},
   "outputs": [],
   "source": [
    "rounds = 200"
   ]
  },
  {
   "cell_type": "code",
   "execution_count": 56,
   "metadata": {},
   "outputs": [],
   "source": [
    "batch_size = 1"
   ]
  },
  {
   "cell_type": "code",
   "execution_count": 57,
   "metadata": {},
   "outputs": [],
   "source": [
    "layers = [\n",
    "    NNLayer(20, True, ActivationSigmoid(x_upper_bound=500, x_lower_bound=-500)),\n",
    "    NNLayer(10, True, ActivationSigmoid(x_upper_bound=500, x_lower_bound=-500)),\n",
    "    NNLayer(1, True, ActivationSigmoid(x_upper_bound=500, x_lower_bound=-500)),\n",
    "]"
   ]
  },
  {
   "cell_type": "code",
   "execution_count": 58,
   "metadata": {
    "scrolled": true
   },
   "outputs": [],
   "source": [
    "m = NNModel(test_data_x.shape[1], layers, GDOptimizerNone(learning_rate=learning_rate))"
   ]
  },
  {
   "cell_type": "code",
   "execution_count": 59,
   "metadata": {
    "scrolled": true
   },
   "outputs": [
    {
     "name": "stdout",
     "output_type": "stream",
     "text": [
      "Wall time: 21.2 s\n"
     ]
    }
   ],
   "source": [
    "%%time\n",
    "all_cost = []\n",
    "all_cost_ce = []\n",
    "for _ in range(rounds):\n",
    "    cost = 0\n",
    "    cost_ce = 0\n",
    "    learning_idx = np.arange(len(test_data_x))\n",
    "    np.random.shuffle(learning_idx)\n",
    "    \n",
    "    for start_idx in range(0, len(test_data_x), batch_size):\n",
    "        data_idx = learning_idx[start_idx : min(start_idx+batch_size,len(test_data_x))]\n",
    "#         data_idx = learning_idx[start_idx]\n",
    "        sample, target = test_data_x[data_idx], test_data_y[data_idx,None]\n",
    "        predict = m.model_forward(sample)\n",
    "        err = predict - target\n",
    "        m.update_model(predict, target)\n",
    "        cost += (err*err).sum()\n",
    "        cost_ce -= (target*np.log(predict)+(1-target)*np.log(1-predict)).sum()\n",
    "    all_cost.append(cost)\n",
    "    all_cost_ce.append(cost_ce)"
   ]
  },
  {
   "cell_type": "code",
   "execution_count": 60,
   "metadata": {},
   "outputs": [
    {
     "data": {
      "text/plain": [
       "0.0003868889151943356"
      ]
     },
     "execution_count": 60,
     "metadata": {},
     "output_type": "execute_result"
    }
   ],
   "source": [
    "all_cost[-1]"
   ]
  },
  {
   "cell_type": "code",
   "execution_count": 61,
   "metadata": {},
   "outputs": [
    {
     "data": {
      "text/plain": [
       "0.09756259465177684"
      ]
     },
     "execution_count": 61,
     "metadata": {},
     "output_type": "execute_result"
    }
   ],
   "source": [
    "all_cost_ce[-1]"
   ]
  },
  {
   "cell_type": "code",
   "execution_count": 62,
   "metadata": {
    "scrolled": false
   },
   "outputs": [
    {
     "data": {
      "text/plain": [
       "[<matplotlib.lines.Line2D at 0x5fb78d0>]"
      ]
     },
     "execution_count": 62,
     "metadata": {},
     "output_type": "execute_result"
    },
    {
     "data": {
      "image/png": "[encoded data removed]",
      "text/plain": [
       "<matplotlib.figure.Figure at 0x5f92ed0>"
      ]
     },
     "metadata": {},
     "output_type": "display_data"
    }
   ],
   "source": [
    "plt.figure(figsize=(15,6))\n",
    "plt.plot(all_cost)"
   ]
  },
  {
   "cell_type": "code",
   "execution_count": 63,
   "metadata": {},
   "outputs": [],
   "source": [
    "predict_data_x = test_data_std[500:]\n",
    "predict_data_y = test_data_y_org[500:]"
   ]
  },
  {
   "cell_type": "code",
   "execution_count": 64,
   "metadata": {},
   "outputs": [],
   "source": [
    "predict_y = []\n",
    "for sample, tgt in zip(predict_data_x, predict_data_y):\n",
    "    pct = m.model_forward(sample)\n",
    "    predict_y.append(pct)"
   ]
  },
  {
   "cell_type": "code",
   "execution_count": 65,
   "metadata": {},
   "outputs": [
    {
     "data": {
      "text/plain": [
       "array([[17,  0],\n",
       "       [ 2, 50]], dtype=int64)"
      ]
     },
     "execution_count": 65,
     "metadata": {},
     "output_type": "execute_result"
    }
   ],
   "source": [
    "metrics.confusion_matrix(predict_data_y, [1 if pct > 0.5 else 0 for pct in predict_y])"
   ]
  },
  {
   "cell_type": "markdown",
   "metadata": {},
   "source": [
    "test_ob"
   ]
  },
  {
   "cell_type": "code",
   "execution_count": null,
   "metadata": {},
   "outputs": [],
   "source": []
  }
 ],
 "metadata": {
  "kernelspec": {
   "display_name": "Python 3",
   "language": "python",
   "name": "python3"
  },
  "language_info": {
   "codemirror_mode": {
    "name": "ipython",
    "version": 3
   },
   "file_extension": ".py",
   "mimetype": "text/x-python",
   "name": "python",
   "nbconvert_exporter": "python",
   "pygments_lexer": "ipython3",
   "version": "3.6.4"
  }
 },
 "nbformat": 4,
 "nbformat_minor": 2
}
